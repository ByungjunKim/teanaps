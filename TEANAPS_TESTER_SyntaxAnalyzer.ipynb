{
 "cells": [
  {
   "cell_type": "code",
   "execution_count": 1,
   "metadata": {
    "collapsed": true
   },
   "outputs": [],
   "source": [
    "from Teanaps.NaturalLanguageProcessing.SyntaxAnalyzer import SyntaxAnalyzer\n",
    "\n",
    "text_ko = \"自然語處理 (대표적인) 암호화폐 비트코인의 가격이 급변동했음에도 불구, 일부 암호화폐 옹호론자들은 비트코인이 갖고 있는 몇 가지 결함이 해소되면 새로운 국면이 나타날 것으로 예측했다.\"\n",
    "text_en =  \"自然語處理 한글?... 自 Natural language processing (NLP) isn't a subfield of computer science, information engineering, and artificial intelligence concerned with the interactions between computers and human (natural) languages, in particular how to program computers to process and analyze large amounts of natural language data.\"\n",
    "text = \"자연어(natural language)란 우리가 일상 생활에서 사용하는 언어를 말합니다.\"\n",
    "text_kk = \"전병진전병진전병진전병진전병진전병진 존나웃겨ㅋㅋㅋㅋㅋㅋㅋㅋㅋㅋㅋㅋㅋㅋㅋㅋㅋ hahahahahahahaha\"\n",
    "\n",
    "sa = SyntaxAnalyzer()"
   ]
  },
  {
   "cell_type": "code",
   "execution_count": 8,
   "metadata": {},
   "outputs": [
    {
     "name": "stdout",
     "output_type": "stream",
     "text": [
      "kb/SL 손해/NNG 보험/NNG 은/JX 치매/NNG 에/JKB 대하/VV 아/EC 경증/NNG 부터/JX 중증/NNG 까지/JX 폭넓/VA 게/EC 보장/NNG 하/XSV 는/ETM ‘/SO the/SL 간편/XR 하/XSA ᆫ/ETM 치매/NNG 간병/NNG 보험/NNG ’/SO 을/JKO 판매/NNG 중/NNB 이/VCP 다/EF ./SF 이/MM 상품/NNG 은/JX 경증/NNG 치매/NNG ,/SP 중등/NNG 도/JX 치매/NNG ,/SP 중증/NNG 치매/NNG ,/SP 알츠하이머병/NNG ,/SP 파킨슨병/NNG 까지/JX 치매/NNG 와/JC 관련/NNG 되/XSV ᆫ/ETM 질병/NNG 들/XSN 을/JKO 포괄/NNG 적/XSN 으로/JKB 보장/NNG 하/XSV 는/ETM 것/NNB 이/JKS 가장/MAG 크/VA ᆫ/ETM 특징/NNG 이/VCP 다/EF ./SF 특히/MAG 비교/NNG 적/XSN 상태/NNG 가/JKS 심각/XR 하/XSA 지/EC 않/VX 은/ETM 경증/NNG 치매/NNG 에/JKB 대하/VV 아/EC 최대/NNG 20/SN 만/NR 원/NNB 의/JKG 진단/NNG 비/NNG 를/JKO 보장/NNG 하/XSV 고/EC 가입/NNG 연령/NNG 을/JKO 업계/NNG 최초/NNG 로/JKB 25/SN 세/NNB 부터/JX 가능/NNG 하/XSV 도록/EC 하/VX 았/EP 다/EF ./SF "
     ]
    }
   ],
   "source": [
    "sentence = \"KB손해보험은 치매에 대해 경증부터 중증까지 폭넓게 보장하는 ‘The간편한치매간병보험’을 판매 중이다. 이 상품은 경증치매, 중등도치매, 중증치매, 알츠하이머병, 파킨슨병까지 치매와 관련된 질병들을 포괄적으로 보장하는 게 가장 큰 특징이다. 특히 비교적 상태가 심각하지 않은 경증치매에 대해 최대 2000만원의 진단비를 보장하고 가입 연령을 업계 최초로 25세부터 가능토록 했다.\"\n",
    "result = sa.parse(sentence)\n",
    "for r in result:\n",
    "    print(r[0] + \"/\" + r[1], end=\" \")"
   ]
  },
  {
   "cell_type": "code",
   "execution_count": 2,
   "metadata": {},
   "outputs": [
    {
     "data": {
      "text/plain": [
       "[('自然', 'NNG'),\n",
       " ('語', 'XSN'),\n",
       " ('處理', 'NNG'),\n",
       " ('(', 'SS'),\n",
       " ('대표', 'NNG'),\n",
       " ('적', 'XSN'),\n",
       " ('이', 'VCP'),\n",
       " ('ᆫ', 'ETM'),\n",
       " (')', 'SS'),\n",
       " ('암호', 'NNG'),\n",
       " ('화폐', 'NNG'),\n",
       " ('비트코인', 'NNP'),\n",
       " ('의', 'JKG'),\n",
       " ('가격', 'NNG'),\n",
       " ('이', 'JKS'),\n",
       " ('급', 'NNG'),\n",
       " ('변동', 'NNG'),\n",
       " ('하', 'XSV'),\n",
       " ('았', 'EP'),\n",
       " ('음', 'ETN'),\n",
       " ('에', 'JKB'),\n",
       " ('도', 'JX'),\n",
       " ('불구', 'XR'),\n",
       " (',', 'SP'),\n",
       " ('일부', 'NNG'),\n",
       " ('암호', 'NNG'),\n",
       " ('화폐', 'NNG'),\n",
       " ('옹호', 'NNG'),\n",
       " ('론', 'XSN'),\n",
       " ('자', 'XSN'),\n",
       " ('들', 'XSN'),\n",
       " ('은', 'JX'),\n",
       " ('비트코인', 'NNP'),\n",
       " ('이', 'JKS'),\n",
       " ('갖', 'VV'),\n",
       " ('고', 'EC'),\n",
       " ('있', 'VX'),\n",
       " ('는', 'ETM'),\n",
       " ('몇', 'MM'),\n",
       " ('가지', 'NNB'),\n",
       " ('결함', 'NNG'),\n",
       " ('이', 'JKS'),\n",
       " ('해소', 'NNG'),\n",
       " ('되', 'XSV'),\n",
       " ('면', 'EC'),\n",
       " ('새롭', 'VA'),\n",
       " ('ᆫ', 'ETM'),\n",
       " ('국면', 'NNG'),\n",
       " ('이', 'JKS'),\n",
       " ('나타나', 'VV'),\n",
       " ('ᆯ', 'ETM'),\n",
       " ('것', 'NNB'),\n",
       " ('으로', 'JKB'),\n",
       " ('예측', 'NNG'),\n",
       " ('하', 'XSV'),\n",
       " ('았', 'EP'),\n",
       " ('다', 'EF'),\n",
       " ('.', 'SF')]"
      ]
     },
     "execution_count": 2,
     "metadata": {},
     "output_type": "execute_result"
    }
   ],
   "source": [
    "sentence = text_ko\n",
    "sa.parse(sentence)"
   ]
  },
  {
   "cell_type": "code",
   "execution_count": 3,
   "metadata": {},
   "outputs": [
    {
     "data": {
      "text/plain": [
       "[('自然語處理', 'NNG'),\n",
       " ('한글', 'NNG'),\n",
       " ('?', 'SF'),\n",
       " ('.', 'SF'),\n",
       " ('自', 'VA'),\n",
       " ('natural', 'VA'),\n",
       " ('language', 'NNG'),\n",
       " ('procesing', 'NNG'),\n",
       " ('(', 'SS'),\n",
       " ('nlp', 'NNP'),\n",
       " (')', 'SS'),\n",
       " ('be', 'VV'),\n",
       " ('not', 'MAG'),\n",
       " ('a', 'DT'),\n",
       " ('subfield', 'NNG'),\n",
       " ('of', 'IN'),\n",
       " ('computer', 'NNG'),\n",
       " ('science', 'NNG'),\n",
       " (',', 'SP'),\n",
       " ('information', 'NNG'),\n",
       " ('enginering', 'NNG'),\n",
       " (',', 'SP'),\n",
       " ('and', 'JC'),\n",
       " ('artificial', 'VA'),\n",
       " ('inteligence', 'NNG'),\n",
       " ('concern', 'VV'),\n",
       " ('with', 'IN'),\n",
       " ('the', 'DT'),\n",
       " ('interaction', 'NNG'),\n",
       " ('betwen', 'SW'),\n",
       " ('computer', 'NNG'),\n",
       " ('and', 'JC'),\n",
       " ('human', 'VA'),\n",
       " ('(', 'SS'),\n",
       " ('natural', 'VA'),\n",
       " (')', 'SS'),\n",
       " ('language', 'NNG'),\n",
       " (',', 'SP'),\n",
       " ('in', 'IN'),\n",
       " ('particular', 'VA'),\n",
       " ('how', 'WRB'),\n",
       " ('to', 'TO'),\n",
       " ('program', 'NNG'),\n",
       " ('computer', 'NNG'),\n",
       " ('to', 'TO'),\n",
       " ('proces', 'NNG'),\n",
       " ('and', 'JC'),\n",
       " ('analyze', 'VV'),\n",
       " ('large', 'VA'),\n",
       " ('amount', 'NNG'),\n",
       " ('of', 'IN'),\n",
       " ('natural', 'VA'),\n",
       " ('language', 'NNG'),\n",
       " ('data', 'NNG'),\n",
       " ('.', 'SF')]"
      ]
     },
     "execution_count": 3,
     "metadata": {},
     "output_type": "execute_result"
    }
   ],
   "source": [
    "sentence = text_en\n",
    "sa.parse(sentence)"
   ]
  },
  {
   "cell_type": "code",
   "execution_count": null,
   "metadata": {
    "collapsed": true
   },
   "outputs": [],
   "source": []
  }
 ],
 "metadata": {
  "kernelspec": {
   "display_name": "Python 3",
   "language": "python",
   "name": "python3"
  },
  "language_info": {
   "codemirror_mode": {
    "name": "ipython",
    "version": 3
   },
   "file_extension": ".py",
   "mimetype": "text/x-python",
   "name": "python",
   "nbconvert_exporter": "python",
   "pygments_lexer": "ipython3",
   "version": "3.6.8"
  }
 },
 "nbformat": 4,
 "nbformat_minor": 2
}
