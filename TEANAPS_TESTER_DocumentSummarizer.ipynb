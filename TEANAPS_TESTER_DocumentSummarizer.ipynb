{
 "cells": [
  {
   "cell_type": "code",
   "execution_count": 1,
   "metadata": {},
   "outputs": [
    {
     "name": "stderr",
     "output_type": "stream",
     "text": [
      "Using TensorFlow backend.\n"
     ]
    }
   ],
   "source": [
    "from Teanaps.TextAnalytics.DocumentSummarizer import DocumentSummarizer\n",
    "\n",
    "DOCUMENT_PATH = \"article_sample.txt\"\n",
    "\n",
    "ds = DocumentSummarizer()\n",
    "ds.set_document(DOCUMENT_PATH)"
   ]
  },
  {
   "cell_type": "code",
   "execution_count": 2,
   "metadata": {
    "collapsed": true
   },
   "outputs": [],
   "source": [
    "SUMMARIZER_TYPE = \"textrank\"\n",
    "\n",
    "MAX_SENTENCES = 3\n",
    "ds.summarize(SUMMARIZER_TYPE, MAX_SENTENCES)"
   ]
  },
  {
   "cell_type": "code",
   "execution_count": 3,
   "metadata": {},
   "outputs": [
    {
     "data": {
      "text/plain": [
       "['종합유통기업 BGF리테일이 운영하는 편의점 CU는 상품, 서비스, 공간, 디스플레이 등 모든 측면에서 고객 중심의 새로운 패러다임을 제시하고 있다.',\n",
       " \"CU는 'CVS for U'라는 뜻으로 그동안 다양한 고객들의 라이프스타일과 소비 성향에 최적화된 편의점이 되기 위해 혁신을 시도해왔다.\",\n",
       " \"CU는 편의점 PB상품의 새로운 가치와 다양한 경험을 강조한 통합 PB브랜드 'HEYROO(헤이루)'와 캐릭터 'HEYROO Friends(헤이루 프렌즈)'를 론칭했다.\"]"
      ]
     },
     "execution_count": 3,
     "metadata": {},
     "output_type": "execute_result"
    }
   ],
   "source": [
    "ds.get_result()"
   ]
  },
  {
   "cell_type": "code",
   "execution_count": 4,
   "metadata": {
    "collapsed": true
   },
   "outputs": [],
   "source": [
    "SUMMARIZER_TYPE = \"lsa\"\n",
    "\n",
    "MAX_SENTENCES = 3\n",
    "ds.summarize(SUMMARIZER_TYPE, MAX_SENTENCES)"
   ]
  },
  {
   "cell_type": "code",
   "execution_count": 5,
   "metadata": {},
   "outputs": [
    {
     "data": {
      "text/plain": [
       "['종합유통기업 BGF리테일이 운영하는 편의점 CU는 상품, 서비스, 공간, 디스플레이 등 모든 측면에서 고객 중심의 새로운 패러다임을 제시하고 있다.',\n",
       " \"CU는 'CVS for U'라는 뜻으로 그동안 다양한 고객들의 라이프스타일과 소비 성향에 최적화된 편의점이 되기 위해 혁신을 시도해왔다.\",\n",
       " '최근 1인 가구가 증가함에 따라 큰 인기를 끌고 있는 도시락, 삼각김밥, 샌드위치 등 간편식품은 원재료 수급에서부터 유통, 판매까지 엄격한 식품안전관리를 거친다.']"
      ]
     },
     "execution_count": 5,
     "metadata": {},
     "output_type": "execute_result"
    }
   ],
   "source": [
    "ds.get_result()"
   ]
  },
  {
   "cell_type": "code",
   "execution_count": null,
   "metadata": {
    "collapsed": true
   },
   "outputs": [],
   "source": []
  }
 ],
 "metadata": {
  "kernelspec": {
   "display_name": "Python 3",
   "language": "python",
   "name": "python3"
  },
  "language_info": {
   "codemirror_mode": {
    "name": "ipython",
    "version": 3
   },
   "file_extension": ".py",
   "mimetype": "text/x-python",
   "name": "python",
   "nbconvert_exporter": "python",
   "pygments_lexer": "ipython3",
   "version": "3.6.8"
  }
 },
 "nbformat": 4,
 "nbformat_minor": 2
}
